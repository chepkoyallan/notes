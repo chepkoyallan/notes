{
 "cells": [
  {
   "cell_type": "markdown",
   "id": "adfaac7a",
   "metadata": {},
   "source": [
    "# 1.1 Propositional logic\n",
    "---\n",
    "\n",
    "* Classification of sentances\n",
    "\n",
    "- **Declarative** Something being asserted or declared.\n",
    "- **Exclamatory** - Emotional expression\n",
    "- **Interrogative** - Question being asked\n",
    "- **Imperative** - Command\n",
    "\n",
    "**Proposition/Statement** Is a declarative sentance that is either _true or false_ but not both\n",
    "every proposition has a truth value\n",
    "\n",
    "**Other Types of Declarative** \n",
    "- **Paradox** A declarative sentence that is **true** and **false** at the same time -> Not a propositions\n",
    "- **Open Sentance** Containing one or more variables and whose truth orr falsity *depends on the variables*"
   ]
  },
  {
   "cell_type": "code",
   "execution_count": null,
   "id": "869dadd2",
   "metadata": {},
   "outputs": [],
   "source": []
  }
 ],
 "metadata": {
  "kernelspec": {
   "display_name": "Python 3 (ipykernel)",
   "language": "python",
   "name": "python3"
  },
  "language_info": {
   "codemirror_mode": {
    "name": "ipython",
    "version": 3
   },
   "file_extension": ".py",
   "mimetype": "text/x-python",
   "name": "python",
   "nbconvert_exporter": "python",
   "pygments_lexer": "ipython3",
   "version": "3.9.13"
  }
 },
 "nbformat": 4,
 "nbformat_minor": 5
}
