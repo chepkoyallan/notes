{
 "cells": [
  {
   "cell_type": "markdown",
   "id": "3a0b6aff",
   "metadata": {},
   "source": [
    "# Divisibility\n",
    "\n",
    "- Division of an integer by a *positive integer* produces a *quotient* and working with remainders is what leads to *modular arithmetic*\n",
    "\n",
    "\n",
    "### What is divisibility\n",
    "\n",
    "- if a and b are integers with `a=!0` if there is an integer c, such that `ac=b` or `b/a is an element of Z` when a divides b we say that a is a *factor or divisor* of b, and that b is a *multiple* of a\n",
    "\n",
    "\n",
    "> a devides b if and only if there exists there exists some number c such that a*c = b, where a, b are Integers(Z) and C is a positive Integers (Z+)\n",
    "\n",
    "### Divisibility Theorems\n",
    "\n",
    "- let a, b and c be integers where a =! 0\n",
    "> "
   ]
  },
  {
   "cell_type": "code",
   "execution_count": 16,
   "id": "6871e98c",
   "metadata": {},
   "outputs": [],
   "source": [
    "\"\"\"A function to check for divisibility\"\"\"\n",
    "\n",
    "def check_divisibility(divisor, divident)->bool:\n",
    "    \"\"\"a/b = c a-divident, b-divisor, c-quotient\n",
    "    divisor =! 0\n",
    "    \n",
    "    check is divisor = 0\n",
    "    if == 0 -> its not possible (cannot divide by 0)\n",
    "    othersise and \n",
    "    \"\"\"\n",
    "    # Algorithm\n",
    "    c = divident/divisor\n",
    "    \n",
    "    # check if c is a positive integer\n",
    "    if c > 0: \n",
    "        return (True, type(c))\n",
    "    else:\n",
    "        return (False, c)\n",
    "    "
   ]
  },
  {
   "cell_type": "code",
   "execution_count": 17,
   "id": "58ba6476",
   "metadata": {},
   "outputs": [
    {
     "data": {
      "text/plain": [
       "(True, float)"
      ]
     },
     "execution_count": 17,
     "metadata": {},
     "output_type": "execute_result"
    }
   ],
   "source": [
    "# 3 divides 12\n",
    "check_divisibility(divisor=3, divident=12)"
   ]
  },
  {
   "cell_type": "code",
   "execution_count": 18,
   "id": "c37f53de",
   "metadata": {},
   "outputs": [
    {
     "data": {
      "text/plain": [
       "(True, float)"
      ]
     },
     "execution_count": 18,
     "metadata": {},
     "output_type": "execute_result"
    }
   ],
   "source": [
    "# 4 divides 8\n",
    "check_divisibility(divisor=4, divident=8)"
   ]
  },
  {
   "cell_type": "code",
   "execution_count": 19,
   "id": "ff321a46",
   "metadata": {},
   "outputs": [
    {
     "data": {
      "text/plain": [
       "(True, float)"
      ]
     },
     "execution_count": 19,
     "metadata": {},
     "output_type": "execute_result"
    }
   ],
   "source": [
    "# 3 divides 22\n",
    "check_divisibility(divisor=3, divident=22)"
   ]
  },
  {
   "cell_type": "code",
   "execution_count": null,
   "id": "ba9bc403",
   "metadata": {},
   "outputs": [],
   "source": []
  }
 ],
 "metadata": {
  "kernelspec": {
   "display_name": "Python 3 (ipykernel)",
   "language": "python",
   "name": "python3"
  },
  "language_info": {
   "codemirror_mode": {
    "name": "ipython",
    "version": 3
   },
   "file_extension": ".py",
   "mimetype": "text/x-python",
   "name": "python",
   "nbconvert_exporter": "python",
   "pygments_lexer": "ipython3",
   "version": "3.9.13"
  }
 },
 "nbformat": 4,
 "nbformat_minor": 5
}
