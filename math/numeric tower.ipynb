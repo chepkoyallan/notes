{
 "cells": [
  {
   "cell_type": "code",
   "execution_count": 1,
   "id": "1d56642c",
   "metadata": {},
   "outputs": [],
   "source": [
    "# Nimeric tower"
   ]
  },
  {
   "cell_type": "code",
   "execution_count": 2,
   "id": "ac40276a",
   "metadata": {},
   "outputs": [
    {
     "data": {
      "text/plain": [
       "7"
      ]
     },
     "execution_count": 2,
     "metadata": {},
     "output_type": "execute_result"
    }
   ],
   "source": [
    "3 + 4"
   ]
  },
  {
   "cell_type": "code",
   "execution_count": 4,
   "id": "25002145",
   "metadata": {},
   "outputs": [
    {
     "data": {
      "text/plain": [
       "0.75"
      ]
     },
     "execution_count": 4,
     "metadata": {},
     "output_type": "execute_result"
    }
   ],
   "source": [
    "3 / 4 #exeption to tower"
   ]
  },
  {
   "cell_type": "code",
   "execution_count": 5,
   "id": "e9115161",
   "metadata": {},
   "outputs": [
    {
     "data": {
      "text/plain": [
       "21.8"
      ]
     },
     "execution_count": 5,
     "metadata": {},
     "output_type": "execute_result"
    }
   ],
   "source": [
    "23.8 -2 "
   ]
  },
  {
   "cell_type": "code",
   "execution_count": 6,
   "id": "7c6eef2d",
   "metadata": {},
   "outputs": [
    {
     "data": {
      "text/plain": [
       "(8+1j)"
      ]
     },
     "execution_count": 6,
     "metadata": {},
     "output_type": "execute_result"
    }
   ],
   "source": [
    "3 + complex(5, 1)"
   ]
  },
  {
   "cell_type": "code",
   "execution_count": null,
   "id": "05b5fef0",
   "metadata": {},
   "outputs": [],
   "source": []
  }
 ],
 "metadata": {
  "kernelspec": {
   "display_name": "Python 3 (ipykernel)",
   "language": "python",
   "name": "python3"
  },
  "language_info": {
   "codemirror_mode": {
    "name": "ipython",
    "version": 3
   },
   "file_extension": ".py",
   "mimetype": "text/x-python",
   "name": "python",
   "nbconvert_exporter": "python",
   "pygments_lexer": "ipython3",
   "version": "3.9.13"
  }
 },
 "nbformat": 4,
 "nbformat_minor": 5
}
